{
 "cells": [
  {
   "cell_type": "markdown",
   "id": "a8f6ba5c-6dc2-4468-a011-1356f98c09c8",
   "metadata": {},
   "source": [
    "### Morse Code Project"
   ]
  },
  {
   "cell_type": "code",
   "execution_count": 76,
   "id": "a2ecf326-7869-4988-b9b5-ac69d7541828",
   "metadata": {},
   "outputs": [],
   "source": [
    "morse_to_alphabet = {\n",
    "    'A': '.-',    'B': '-...',  'C': '-.-.',  'D': '-..',   'E': '.',     \n",
    "    'F': '..-.',  'G': '--.',   'H': '....',  'I': '..',    'J': '.---',\n",
    "    'K': '-.-',   'L': '.-..',  'M': '--',    'N': '-.',    'O': '---',\n",
    "    'P': '.--.',  'Q': '--.-',  'R': '.-.',   'S': '...',   'T': '-',\n",
    "    'U': '..-',   'V': '...-',  'W': '.--',   'X': '-..-',  'Y': '-.--',\n",
    "    'Z': '--..',\n",
    "    '0': '-----', '1': '.----', '2': '..---', '3': '...--', '4': '....-', \n",
    "    '5': '.....', '6': '-....', '7': '--...', '8': '---..', '9': '----.',\n",
    "    '.': '.-.-.-', ',': '--..--', '?': '..--..'}"
   ]
  },
  {
   "cell_type": "code",
   "execution_count": 77,
   "id": "922242de-5ca2-40d2-825f-7c9d412f9084",
   "metadata": {},
   "outputs": [],
   "source": [
    "word='power'\n",
    "def morse_converter(word,morse_to_alphabet):\n",
    "    word=word.upper()\n",
    "    morse=''\n",
    "    for x in range(len(word)):\n",
    "        morse+=morse_to_alphabet[word[x]]+' '\n",
    "    print(morse)"
   ]
  },
  {
   "cell_type": "code",
   "execution_count": 78,
   "id": "ff009261-10b2-423b-afd1-ad29800aa80d",
   "metadata": {},
   "outputs": [],
   "source": [
    "alphabet_to_morse = {\n",
    "    '.-': 'A',   '-...': 'B', '-.-.': 'C', '-..': 'D',  '.': 'E',\n",
    "    '..-.': 'F', '--.': 'G',  '....': 'H', '..': 'I',   '.---': 'J',\n",
    "    '-.-': 'K',  '.-..': 'L', '--': 'M',  '-.': 'N',   '---': 'O',\n",
    "    '.--.': 'P', '--.-': 'Q', '.-.': 'R', '...': 'S',  '-': 'T',\n",
    "    '..-': 'U',  '...-': 'V', '.--': 'W', '-..-': 'X', '-.--': 'Y',\n",
    "    '--..': 'Z',\n",
    "    '-----': '0', '.----': '1', '..---': '2', '...--': '3', '....-': '4',\n",
    "    '.....': '5', '-....': '6', '--...': '7', '---..': '8', '----.': '9',\n",
    "    '.-.-.-': '.', '--..--': ',', '..--..': '?'\n",
    "}"
   ]
  },
  {
   "cell_type": "code",
   "execution_count": 79,
   "id": "16d4c1a9-f82e-4d1a-88bd-d6ae8d7677af",
   "metadata": {},
   "outputs": [],
   "source": [
    "word='.- .-.. .--. .... .- -... . -'\n",
    "def alphabet_converter(word,alphabet_to_morse):\n",
    "    alphabet=''\n",
    "    morse_code=word.split(\" \")\n",
    "    for x in range(len(morse_code)):\n",
    "        alphabet+=alphabet_to_morse[morse_code[x]]\n",
    "    print(alphabet)"
   ]
  },
  {
   "cell_type": "code",
   "execution_count": 82,
   "id": "a3695059-2e1c-40b2-8b06-4fb20110cd42",
   "metadata": {},
   "outputs": [
    {
     "name": "stdin",
     "output_type": "stream",
     "text": [
      "type morse to change word into morsecode otherwise type alphabet to change morse into words a\n",
      "Type the morse:  -- -.- --- .----\n"
     ]
    },
    {
     "name": "stdout",
     "output_type": "stream",
     "text": [
      "MKO1\n"
     ]
    }
   ],
   "source": [
    "class Morse:\n",
    "    while True:\n",
    "            question=input('type morse to change word into morsecode otherwise type alphabet to change morse into words')\n",
    "            if question.lower().startswith('m'): \n",
    "                word=input('Type the word: ')\n",
    "                morse_converter(word,morse_to_alphabet)\n",
    "                break\n",
    "            elif question.lower().startswith('a'):\n",
    "                morse=input('Type the morse: ')\n",
    "                alphabet_converter(morse,alphabet_to_morse)\n",
    "                break\n",
    "            else:\n",
    "                print('incorrect input try again:|')\n",
    "                continue"
   ]
  },
  {
   "cell_type": "code",
   "execution_count": null,
   "id": "f80350bc-f64d-4a28-8fd3-d150279eb67e",
   "metadata": {},
   "outputs": [],
   "source": []
  }
 ],
 "metadata": {
  "kernelspec": {
   "display_name": "Python 3 (ipykernel)",
   "language": "python",
   "name": "python3"
  },
  "language_info": {
   "codemirror_mode": {
    "name": "ipython",
    "version": 3
   },
   "file_extension": ".py",
   "mimetype": "text/x-python",
   "name": "python",
   "nbconvert_exporter": "python",
   "pygments_lexer": "ipython3",
   "version": "3.11.7"
  }
 },
 "nbformat": 4,
 "nbformat_minor": 5
}
